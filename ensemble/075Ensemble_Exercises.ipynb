{
 "cells": [
  {
   "cell_type": "markdown",
   "metadata": {},
   "source": [
    "# Ensemble methods. Exercises\n",
    "\n",
    "\n",
    "In this section we have only two exercise:\n",
    "\n",
    "1. Find the best three classifier in the stacking method using the classifiers from scikit-learn package.\n",
    "\n",
    "2. Build arcing arc-x4 method. "
   ]
  },
  {
   "cell_type": "code",
   "execution_count": 1,
   "metadata": {
    "ExecuteTime": {
     "end_time": "2024-05-01T00:08:52.183598Z",
     "start_time": "2024-05-01T00:08:52.058638Z"
    }
   },
   "outputs": [],
   "source": [
    "%store -r data_set\n",
    "%store -r labels\n",
    "%store -r test_data_set\n",
    "%store -r test_labels\n",
    "%store -r unique_labels"
   ]
  },
  {
   "cell_type": "markdown",
   "metadata": {},
   "source": [
    "## Exercise 1: Find the best three classifier in the stacking method\n",
    "\n",
    "Please use the following classifiers:\n",
    "\n",
    "* Linear regression,\n",
    "* Nearest Neighbors,\n",
    "* Linear SVM,\n",
    "* Decision Tree,\n",
    "* Naive Bayes,\n",
    "* QDA."
   ]
  },
  {
   "cell_type": "code",
   "execution_count": 2,
   "metadata": {
    "ExecuteTime": {
     "end_time": "2024-05-01T00:08:52.822885Z",
     "start_time": "2024-05-01T00:08:52.186991Z"
    }
   },
   "outputs": [],
   "source": [
    "import numpy as np\n",
    "from sklearn.metrics import accuracy_score\n",
    "\n",
    "from sklearn.linear_model import LinearRegression\n",
    "from sklearn.neighbors import KNeighborsClassifier\n",
    "from sklearn.svm import SVC\n",
    "from sklearn.tree import DecisionTreeClassifier\n",
    "from sklearn.naive_bayes import GaussianNB\n",
    "from sklearn.discriminant_analysis import QuadraticDiscriminantAnalysis"
   ]
  },
  {
   "cell_type": "code",
   "execution_count": 3,
   "metadata": {
    "ExecuteTime": {
     "end_time": "2024-05-01T00:08:52.830216Z",
     "start_time": "2024-05-01T00:08:52.824232Z"
    }
   },
   "outputs": [],
   "source": [
    "def build_classifiers():\n",
    "    linear_regression = LinearRegression()\n",
    "    linear_regression.fit(data_set, labels)\n",
    "    \n",
    "    knn = KNeighborsClassifier()\n",
    "    knn.fit(data_set, labels)\n",
    "    \n",
    "    svc = SVC()\n",
    "    svc.fit(data_set, labels)\n",
    "    \n",
    "    decision_tree = DecisionTreeClassifier()\n",
    "    decision_tree.fit(data_set, labels)\n",
    "    \n",
    "    naive_bayes = GaussianNB()\n",
    "    naive_bayes.fit(data_set, labels)\n",
    "    \n",
    "    qda = QuadraticDiscriminantAnalysis()\n",
    "    qda.fit(data_set, labels)\n",
    "    \n",
    "    return [linear_regression, knn, svc, decision_tree, naive_bayes, qda]"
   ]
  },
  {
   "cell_type": "code",
   "execution_count": 4,
   "metadata": {
    "ExecuteTime": {
     "end_time": "2024-05-01T00:08:52.838778Z",
     "start_time": "2024-05-01T00:08:52.832138Z"
    }
   },
   "outputs": [],
   "source": [
    "def build_stacked_classifier(classifiers):\n",
    "    output = []\n",
    "    for classifier in classifiers:\n",
    "        output.append(classifier.predict(data_set))\n",
    "    output = np.array(output).reshape((130,3))\n",
    "    \n",
    "    # stacked classifier part:\n",
    "    stacked_classifier = DecisionTreeClassifier() # set here\n",
    "    stacked_classifier.fit(output.reshape((130,3)), labels.reshape((130,)))\n",
    "    test_set = []\n",
    "    for classifier in classifiers:\n",
    "        test_set.append(classifier.predict(test_data_set))\n",
    "    test_set = np.array(test_set).reshape((len(test_set[0]),3))\n",
    "    predicted = stacked_classifier.predict(test_set)\n",
    "    return predicted"
   ]
  },
  {
   "cell_type": "code",
   "execution_count": 5,
   "metadata": {
    "ExecuteTime": {
     "end_time": "2024-05-01T00:08:53.854264Z",
     "start_time": "2024-05-01T00:08:52.842544Z"
    }
   },
   "outputs": [
    {
     "name": "stdout",
     "output_type": "stream",
     "text": [
      "    Accuracy                   Classifier 1                   Classifier 2  \\\n",
      "1       0.95         DecisionTreeClassifier           KNeighborsClassifier   \n",
      "2       0.90           KNeighborsClassifier         DecisionTreeClassifier   \n",
      "3       0.90           KNeighborsClassifier  QuadraticDiscriminantAnalysis   \n",
      "4       0.90                     GaussianNB           KNeighborsClassifier   \n",
      "5       0.90                     GaussianNB           KNeighborsClassifier   \n",
      "6       0.90  QuadraticDiscriminantAnalysis           KNeighborsClassifier   \n",
      "7       0.85           KNeighborsClassifier                            SVC   \n",
      "8       0.85           KNeighborsClassifier                            SVC   \n",
      "9       0.85           KNeighborsClassifier                            SVC   \n",
      "10      0.85           KNeighborsClassifier                     GaussianNB   \n",
      "11      0.85           KNeighborsClassifier                     GaussianNB   \n",
      "12      0.85                            SVC           KNeighborsClassifier   \n",
      "\n",
      "                     Classifier 3  \n",
      "1   QuadraticDiscriminantAnalysis  \n",
      "2   QuadraticDiscriminantAnalysis  \n",
      "3          DecisionTreeClassifier  \n",
      "4          DecisionTreeClassifier  \n",
      "5   QuadraticDiscriminantAnalysis  \n",
      "6          DecisionTreeClassifier  \n",
      "7          DecisionTreeClassifier  \n",
      "8                      GaussianNB  \n",
      "9   QuadraticDiscriminantAnalysis  \n",
      "10         DecisionTreeClassifier  \n",
      "11  QuadraticDiscriminantAnalysis  \n",
      "12         DecisionTreeClassifier  \n"
     ]
    }
   ],
   "source": [
    "from itertools import permutations\n",
    "from operator import itemgetter\n",
    "import pandas as pd\n",
    "\n",
    "classifiers = build_classifiers()\n",
    "\n",
    "results = []\n",
    "\n",
    "for permutation in permutations(range(len(classifiers)), r=3):\n",
    "    selected_classifiers = itemgetter(*permutation)(classifiers)\n",
    "    predicted = build_stacked_classifier(selected_classifiers)\n",
    "    accuracy = accuracy_score(test_labels, predicted)\n",
    "    classifier_names = [type(classifier).__name__ for classifier in selected_classifiers]\n",
    "    results.append((accuracy, *classifier_names))\n",
    "\n",
    "results.sort(key=itemgetter(0), reverse=True)\n",
    "\n",
    "column_names = ['Accuracy', 'Classifier 1', 'Classifier 2', 'Classifier 3']\n",
    "data_for_df = [dict(zip(column_names, result)) for result in results[:12]]\n",
    "\n",
    "df = pd.DataFrame(data_for_df)\n",
    "df.index = df.index + 1\n",
    "\n",
    "print(df)"
   ]
  },
  {
   "cell_type": "markdown",
   "metadata": {},
   "source": [
    "## Exercise 2: \n",
    "\n",
    "Use the boosting method and change the code to fullfilt the following requirements:\n",
    "\n",
    "* the weights should be calculated as:\n",
    "$w_{n}^{(t+1)}=\\frac{1+ I(y_{n}\\neq h_{t}(x_{n})}{\\sum_{i=1}^{N}1+I(y_{n}\\neq h_{t}(x_{n})}$,\n",
    "* the prediction is done with a voting method."
   ]
  },
  {
   "cell_type": "code",
   "execution_count": 6,
   "metadata": {
    "ExecuteTime": {
     "end_time": "2024-05-01T00:08:53.863974Z",
     "start_time": "2024-05-01T00:08:53.855677Z"
    }
   },
   "outputs": [],
   "source": [
    "import numpy as np\n",
    "from sklearn.tree import DecisionTreeClassifier\n",
    "\n",
    "# prepare data set\n",
    "\n",
    "def generate_data(sample_number, feature_number, label_number):\n",
    "    data_set = np.random.random_sample((sample_number, feature_number))\n",
    "    labels = np.random.choice(label_number, sample_number)\n",
    "    return data_set, labels\n",
    "\n",
    "labels = 2\n",
    "dimension = 2\n",
    "test_set_size = 1000\n",
    "train_set_size = 5000\n",
    "train_set, train_labels = generate_data(train_set_size, dimension, labels)\n",
    "test_set, test_labels = generate_data(test_set_size, dimension, labels)\n",
    "\n",
    "# init weights\n",
    "number_of_iterations = 10\n",
    "weights = np.ones((test_set_size,)) / test_set_size\n",
    "\n",
    "\n",
    "def train_model(classifier, weights):\n",
    "    return classifier.fit(X=test_set, y=test_labels, sample_weight=weights)\n",
    "\n",
    "def calculate_error(model):\n",
    "    predicted = model.predict(test_set)\n",
    "    I=calculate_accuracy_vector(predicted, test_labels)\n",
    "    Z=np.sum(I)\n",
    "    return (1+Z)/1.0"
   ]
  },
  {
   "cell_type": "markdown",
   "metadata": {},
   "source": [
    "Fill the two functions below:"
   ]
  },
  {
   "cell_type": "code",
   "execution_count": 7,
   "metadata": {
    "ExecuteTime": {
     "end_time": "2024-05-01T00:08:53.870400Z",
     "start_time": "2024-05-01T00:08:53.865471Z"
    }
   },
   "outputs": [],
   "source": [
    "def set_new_weights(model):\n",
    "    predicted = model.predict(test_set)\n",
    "    I = np.array([int(p != t) for p, t in zip(predicted, test_labels)])\n",
    "    Z = np.sum(I)\n",
    "    new_weights = (1 + I) / (1.0 * (1 + Z))\n",
    "    return new_weights"
   ]
  },
  {
   "cell_type": "markdown",
   "metadata": {},
   "source": [
    "Train the classifier with the code below:"
   ]
  },
  {
   "cell_type": "code",
   "execution_count": 8,
   "metadata": {
    "ExecuteTime": {
     "end_time": "2024-05-01T00:08:53.907596Z",
     "start_time": "2024-05-01T00:08:53.872308Z"
    }
   },
   "outputs": [
    {
     "name": "stdout",
     "output_type": "stream",
     "text": [
      "[0.00373832 0.00373832 0.00373832 0.00186916 0.00373832 0.00186916\n",
      " 0.00373832 0.00373832 0.00373832 0.00373832 0.00186916 0.00373832\n",
      " 0.00373832 0.00373832 0.00186916 0.00186916 0.00373832 0.00186916\n",
      " 0.00186916 0.00373832 0.00186916 0.00186916 0.00373832 0.00186916\n",
      " 0.00186916 0.00186916 0.00186916 0.00186916 0.00373832 0.00186916\n",
      " 0.00373832 0.00186916 0.00373832 0.00186916 0.00373832 0.00186916\n",
      " 0.00373832 0.00186916 0.00373832 0.00186916 0.00373832 0.00186916\n",
      " 0.00373832 0.00186916 0.00373832 0.00373832 0.00373832 0.00186916\n",
      " 0.00186916 0.00373832 0.00373832 0.00186916 0.00186916 0.00373832\n",
      " 0.00373832 0.00373832 0.00373832 0.00186916 0.00373832 0.00373832\n",
      " 0.00186916 0.00186916 0.00373832 0.00373832 0.00186916 0.00373832\n",
      " 0.00186916 0.00373832 0.00373832 0.00373832 0.00186916 0.00186916\n",
      " 0.00373832 0.00186916 0.00373832 0.00186916 0.00373832 0.00186916\n",
      " 0.00373832 0.00373832 0.00186916 0.00373832 0.00186916 0.00186916\n",
      " 0.00186916 0.00373832 0.00186916 0.00373832 0.00373832 0.00186916\n",
      " 0.00186916 0.00186916 0.00186916 0.00373832 0.00373832 0.00373832\n",
      " 0.00186916 0.00373832 0.00186916 0.00373832 0.00186916 0.00186916\n",
      " 0.00373832 0.00186916 0.00186916 0.00373832 0.00186916 0.00373832\n",
      " 0.00373832 0.00186916 0.00373832 0.00186916 0.00373832 0.00373832\n",
      " 0.00373832 0.00373832 0.00373832 0.00186916 0.00373832 0.00373832\n",
      " 0.00373832 0.00186916 0.00373832 0.00373832 0.00186916 0.00373832\n",
      " 0.00186916 0.00186916 0.00373832 0.00186916 0.00186916 0.00373832\n",
      " 0.00186916 0.00186916 0.00373832 0.00373832 0.00186916 0.00373832\n",
      " 0.00373832 0.00373832 0.00373832 0.00373832 0.00186916 0.00186916\n",
      " 0.00186916 0.00186916 0.00373832 0.00373832 0.00373832 0.00186916\n",
      " 0.00186916 0.00373832 0.00373832 0.00186916 0.00373832 0.00373832\n",
      " 0.00373832 0.00373832 0.00373832 0.00373832 0.00373832 0.00186916\n",
      " 0.00186916 0.00186916 0.00186916 0.00186916 0.00186916 0.00186916\n",
      " 0.00186916 0.00373832 0.00373832 0.00186916 0.00186916 0.00373832\n",
      " 0.00186916 0.00373832 0.00373832 0.00186916 0.00373832 0.00373832\n",
      " 0.00186916 0.00186916 0.00186916 0.00373832 0.00186916 0.00186916\n",
      " 0.00186916 0.00373832 0.00186916 0.00373832 0.00373832 0.00373832\n",
      " 0.00186916 0.00373832 0.00373832 0.00373832 0.00373832 0.00373832\n",
      " 0.00186916 0.00373832 0.00373832 0.00373832 0.00373832 0.00373832\n",
      " 0.00373832 0.00186916 0.00373832 0.00186916 0.00186916 0.00186916\n",
      " 0.00186916 0.00186916 0.00373832 0.00373832 0.00186916 0.00186916\n",
      " 0.00373832 0.00186916 0.00373832 0.00186916 0.00186916 0.00373832\n",
      " 0.00373832 0.00186916 0.00373832 0.00373832 0.00186916 0.00373832\n",
      " 0.00186916 0.00186916 0.00186916 0.00373832 0.00186916 0.00186916\n",
      " 0.00186916 0.00373832 0.00373832 0.00373832 0.00186916 0.00186916\n",
      " 0.00186916 0.00373832 0.00373832 0.00373832 0.00186916 0.00373832\n",
      " 0.00373832 0.00186916 0.00373832 0.00373832 0.00186916 0.00186916\n",
      " 0.00373832 0.00373832 0.00186916 0.00186916 0.00186916 0.00373832\n",
      " 0.00373832 0.00186916 0.00186916 0.00373832 0.00373832 0.00373832\n",
      " 0.00186916 0.00373832 0.00186916 0.00373832 0.00373832 0.00186916\n",
      " 0.00373832 0.00186916 0.00373832 0.00186916 0.00373832 0.00373832\n",
      " 0.00373832 0.00373832 0.00186916 0.00186916 0.00186916 0.00186916\n",
      " 0.00373832 0.00373832 0.00373832 0.00186916 0.00186916 0.00186916\n",
      " 0.00186916 0.00186916 0.00186916 0.00373832 0.00186916 0.00373832\n",
      " 0.00186916 0.00373832 0.00373832 0.00373832 0.00186916 0.00186916\n",
      " 0.00186916 0.00186916 0.00373832 0.00186916 0.00373832 0.00373832\n",
      " 0.00186916 0.00186916 0.00186916 0.00373832 0.00186916 0.00373832\n",
      " 0.00186916 0.00186916 0.00373832 0.00373832 0.00186916 0.00373832\n",
      " 0.00186916 0.00186916 0.00373832 0.00373832 0.00186916 0.00186916\n",
      " 0.00373832 0.00373832 0.00373832 0.00373832 0.00186916 0.00186916\n",
      " 0.00186916 0.00373832 0.00186916 0.00373832 0.00373832 0.00373832\n",
      " 0.00373832 0.00186916 0.00373832 0.00373832 0.00373832 0.00373832\n",
      " 0.00373832 0.00373832 0.00186916 0.00373832 0.00373832 0.00373832\n",
      " 0.00186916 0.00186916 0.00186916 0.00373832 0.00373832 0.00186916\n",
      " 0.00186916 0.00373832 0.00186916 0.00373832 0.00373832 0.00186916\n",
      " 0.00373832 0.00186916 0.00186916 0.00373832 0.00373832 0.00186916\n",
      " 0.00186916 0.00186916 0.00373832 0.00373832 0.00373832 0.00373832\n",
      " 0.00186916 0.00373832 0.00373832 0.00373832 0.00186916 0.00373832\n",
      " 0.00373832 0.00373832 0.00186916 0.00186916 0.00186916 0.00373832\n",
      " 0.00186916 0.00186916 0.00186916 0.00186916 0.00186916 0.00373832\n",
      " 0.00186916 0.00186916 0.00373832 0.00186916 0.00186916 0.00373832\n",
      " 0.00186916 0.00186916 0.00186916 0.00186916 0.00373832 0.00186916\n",
      " 0.00186916 0.00186916 0.00373832 0.00186916 0.00373832 0.00186916\n",
      " 0.00186916 0.00373832 0.00373832 0.00373832 0.00186916 0.00373832\n",
      " 0.00373832 0.00186916 0.00186916 0.00373832 0.00373832 0.00373832\n",
      " 0.00186916 0.00373832 0.00186916 0.00373832 0.00186916 0.00373832\n",
      " 0.00373832 0.00373832 0.00373832 0.00186916 0.00373832 0.00186916\n",
      " 0.00186916 0.00186916 0.00373832 0.00373832 0.00373832 0.00186916\n",
      " 0.00373832 0.00186916 0.00186916 0.00373832 0.00373832 0.00186916\n",
      " 0.00373832 0.00373832 0.00373832 0.00186916 0.00186916 0.00373832\n",
      " 0.00186916 0.00186916 0.00186916 0.00373832 0.00186916 0.00186916\n",
      " 0.00373832 0.00373832 0.00186916 0.00373832 0.00373832 0.00373832\n",
      " 0.00186916 0.00186916 0.00186916 0.00186916 0.00373832 0.00186916\n",
      " 0.00373832 0.00186916 0.00186916 0.00186916 0.00373832 0.00373832\n",
      " 0.00373832 0.00373832 0.00373832 0.00186916 0.00373832 0.00186916\n",
      " 0.00186916 0.00373832 0.00186916 0.00186916 0.00373832 0.00186916\n",
      " 0.00186916 0.00373832 0.00373832 0.00186916 0.00186916 0.00373832\n",
      " 0.00373832 0.00186916 0.00373832 0.00373832 0.00373832 0.00373832\n",
      " 0.00373832 0.00373832 0.00186916 0.00373832 0.00186916 0.00373832\n",
      " 0.00186916 0.00373832 0.00373832 0.00186916 0.00373832 0.00373832\n",
      " 0.00373832 0.00186916 0.00373832 0.00186916 0.00186916 0.00186916\n",
      " 0.00373832 0.00373832 0.00373832 0.00373832 0.00373832 0.00373832\n",
      " 0.00373832 0.00186916 0.00186916 0.00373832 0.00373832 0.00373832\n",
      " 0.00186916 0.00373832 0.00373832 0.00186916 0.00186916 0.00373832\n",
      " 0.00373832 0.00186916 0.00373832 0.00186916 0.00186916 0.00373832\n",
      " 0.00373832 0.00186916 0.00186916 0.00373832 0.00186916 0.00186916\n",
      " 0.00373832 0.00186916 0.00373832 0.00186916 0.00373832 0.00186916\n",
      " 0.00373832 0.00373832 0.00186916 0.00373832 0.00186916 0.00186916\n",
      " 0.00186916 0.00373832 0.00373832 0.00186916 0.00186916 0.00186916\n",
      " 0.00373832 0.00373832 0.00373832 0.00373832 0.00373832 0.00373832\n",
      " 0.00373832 0.00373832 0.00373832 0.00373832 0.00186916 0.00186916\n",
      " 0.00186916 0.00373832 0.00373832 0.00373832 0.00186916 0.00186916\n",
      " 0.00186916 0.00373832 0.00186916 0.00373832 0.00373832 0.00373832\n",
      " 0.00373832 0.00373832 0.00373832 0.00373832 0.00373832 0.00373832\n",
      " 0.00186916 0.00373832 0.00186916 0.00186916 0.00186916 0.00186916\n",
      " 0.00373832 0.00186916 0.00186916 0.00373832 0.00186916 0.00186916\n",
      " 0.00186916 0.00186916 0.00186916 0.00186916 0.00186916 0.00373832\n",
      " 0.00373832 0.00373832 0.00373832 0.00373832 0.00373832 0.00186916\n",
      " 0.00373832 0.00186916 0.00186916 0.00186916 0.00373832 0.00186916\n",
      " 0.00373832 0.00373832 0.00186916 0.00186916 0.00373832 0.00373832\n",
      " 0.00186916 0.00186916 0.00186916 0.00373832 0.00186916 0.00186916\n",
      " 0.00186916 0.00373832 0.00186916 0.00186916 0.00186916 0.00186916\n",
      " 0.00186916 0.00373832 0.00186916 0.00373832 0.00373832 0.00373832\n",
      " 0.00373832 0.00186916 0.00186916 0.00373832 0.00186916 0.00373832\n",
      " 0.00373832 0.00186916 0.00373832 0.00373832 0.00373832 0.00186916\n",
      " 0.00186916 0.00186916 0.00186916 0.00373832 0.00186916 0.00373832\n",
      " 0.00186916 0.00186916 0.00186916 0.00373832 0.00373832 0.00373832\n",
      " 0.00186916 0.00186916 0.00186916 0.00373832 0.00373832 0.00373832\n",
      " 0.00373832 0.00186916 0.00373832 0.00186916 0.00186916 0.00373832\n",
      " 0.00373832 0.00186916 0.00373832 0.00186916 0.00186916 0.00186916\n",
      " 0.00373832 0.00373832 0.00186916 0.00373832 0.00186916 0.00373832\n",
      " 0.00373832 0.00373832 0.00186916 0.00373832 0.00373832 0.00373832\n",
      " 0.00373832 0.00186916 0.00373832 0.00373832 0.00373832 0.00373832\n",
      " 0.00373832 0.00373832 0.00373832 0.00186916 0.00186916 0.00373832\n",
      " 0.00186916 0.00186916 0.00186916 0.00186916 0.00186916 0.00373832\n",
      " 0.00373832 0.00373832 0.00373832 0.00186916 0.00186916 0.00373832\n",
      " 0.00186916 0.00373832 0.00186916 0.00186916 0.00373832 0.00186916\n",
      " 0.00186916 0.00373832 0.00186916 0.00373832 0.00373832 0.00186916\n",
      " 0.00373832 0.00186916 0.00186916 0.00186916 0.00373832 0.00186916\n",
      " 0.00373832 0.00186916 0.00186916 0.00186916 0.00373832 0.00186916\n",
      " 0.00186916 0.00373832 0.00186916 0.00373832 0.00373832 0.00186916\n",
      " 0.00186916 0.00186916 0.00186916 0.00373832 0.00186916 0.00373832\n",
      " 0.00373832 0.00373832 0.00186916 0.00186916 0.00373832 0.00373832\n",
      " 0.00186916 0.00186916 0.00186916 0.00373832 0.00373832 0.00373832\n",
      " 0.00373832 0.00373832 0.00373832 0.00186916 0.00373832 0.00373832\n",
      " 0.00186916 0.00373832 0.00373832 0.00373832 0.00186916 0.00373832\n",
      " 0.00373832 0.00186916 0.00186916 0.00373832 0.00186916 0.00186916\n",
      " 0.00373832 0.00186916 0.00373832 0.00186916 0.00373832 0.00373832\n",
      " 0.00373832 0.00186916 0.00373832 0.00186916 0.00186916 0.00373832\n",
      " 0.00373832 0.00373832 0.00373832 0.00373832 0.00186916 0.00186916\n",
      " 0.00373832 0.00186916 0.00373832 0.00373832 0.00373832 0.00373832\n",
      " 0.00373832 0.00373832 0.00373832 0.00186916 0.00373832 0.00373832\n",
      " 0.00186916 0.00373832 0.00373832 0.00186916 0.00373832 0.00186916\n",
      " 0.00373832 0.00186916 0.00186916 0.00186916 0.00186916 0.00373832\n",
      " 0.00186916 0.00373832 0.00186916 0.00373832 0.00373832 0.00186916\n",
      " 0.00373832 0.00186916 0.00373832 0.00186916 0.00186916 0.00373832\n",
      " 0.00186916 0.00373832 0.00373832 0.00373832 0.00186916 0.00373832\n",
      " 0.00186916 0.00373832 0.00186916 0.00373832 0.00186916 0.00186916\n",
      " 0.00186916 0.00373832 0.00373832 0.00373832 0.00373832 0.00373832\n",
      " 0.00186916 0.00373832 0.00186916 0.00373832 0.00373832 0.00186916\n",
      " 0.00373832 0.00373832 0.00373832 0.00373832 0.00186916 0.00186916\n",
      " 0.00186916 0.00373832 0.00186916 0.00373832 0.00373832 0.00186916\n",
      " 0.00186916 0.00186916 0.00373832 0.00373832 0.00373832 0.00186916\n",
      " 0.00373832 0.00373832 0.00373832 0.00186916 0.00373832 0.00186916\n",
      " 0.00373832 0.00186916 0.00186916 0.00186916 0.00186916 0.00373832\n",
      " 0.00373832 0.00373832 0.00373832 0.00186916 0.00373832 0.00373832\n",
      " 0.00373832 0.00373832 0.00186916 0.00373832 0.00373832 0.00373832\n",
      " 0.00186916 0.00186916 0.00186916 0.00373832 0.00186916 0.00373832\n",
      " 0.00186916 0.00373832 0.00186916 0.00186916 0.00186916 0.00186916\n",
      " 0.00373832 0.00186916 0.00186916 0.00186916 0.00186916 0.00373832\n",
      " 0.00373832 0.00186916 0.00186916 0.00373832 0.00373832 0.00186916\n",
      " 0.00373832 0.00373832 0.00373832 0.00373832 0.00186916 0.00373832\n",
      " 0.00186916 0.00373832 0.00186916 0.00373832 0.00373832 0.00373832\n",
      " 0.00186916 0.00186916 0.00373832 0.00186916 0.00186916 0.00373832\n",
      " 0.00186916 0.00373832 0.00373832 0.00373832 0.00186916 0.00186916\n",
      " 0.00186916 0.00373832 0.00186916 0.00373832 0.00186916 0.00373832\n",
      " 0.00373832 0.00186916 0.00186916 0.00186916 0.00373832 0.00373832\n",
      " 0.00373832 0.00373832 0.00373832 0.00186916 0.00186916 0.00373832\n",
      " 0.00186916 0.00373832 0.00373832 0.00186916 0.00186916 0.00373832\n",
      " 0.00373832 0.00186916 0.00373832 0.00373832 0.00373832 0.00373832\n",
      " 0.00186916 0.00373832 0.00373832 0.00373832 0.00373832 0.00373832\n",
      " 0.00373832 0.00373832 0.00186916 0.00186916]\n"
     ]
    }
   ],
   "source": [
    "classifier = DecisionTreeClassifier(max_depth=1, random_state=1)\n",
    "classifier.fit(X=train_set, y=train_labels)\n",
    "alphas = []\n",
    "classifiers = []\n",
    "for iteration in range(number_of_iterations):\n",
    "    model = train_model(classifier, weights)\n",
    "    weights = set_new_weights(model)\n",
    "    classifiers.append(model)\n",
    "\n",
    "print(weights)\n",
    "\n",
    "\n",
    "validate_x, validate_label = generate_data(1, dimension, labels)"
   ]
  },
  {
   "cell_type": "markdown",
   "metadata": {},
   "source": [
    "Set the validation data set:"
   ]
  },
  {
   "cell_type": "code",
   "execution_count": 9,
   "metadata": {
    "ExecuteTime": {
     "end_time": "2024-05-01T00:08:53.915062Z",
     "start_time": "2024-05-01T00:08:53.909770Z"
    }
   },
   "outputs": [],
   "source": [
    "validate_x, validate_label = generate_data(1, dimension, labels)"
   ]
  },
  {
   "cell_type": "markdown",
   "metadata": {},
   "source": [
    "Fill the prediction code:"
   ]
  },
  {
   "cell_type": "code",
   "execution_count": 10,
   "metadata": {
    "ExecuteTime": {
     "end_time": "2024-05-01T00:08:53.922166Z",
     "start_time": "2024-05-01T00:08:53.917182Z"
    }
   },
   "outputs": [],
   "source": [
    "def get_prediction(x):\n",
    "    predictions = np.array([classifier.predict(x) for classifier in classifiers])\n",
    "    final_prediction = np.round(np.mean(predictions, axis=0)).astype(int)\n",
    "    return final_prediction"
   ]
  },
  {
   "cell_type": "markdown",
   "metadata": {},
   "source": [
    "Test it:"
   ]
  },
  {
   "cell_type": "code",
   "execution_count": 11,
   "metadata": {
    "ExecuteTime": {
     "end_time": "2024-05-01T00:08:53.930458Z",
     "start_time": "2024-05-01T00:08:53.924810Z"
    }
   },
   "outputs": [
    {
     "name": "stdout",
     "output_type": "stream",
     "text": [
      "1\n"
     ]
    }
   ],
   "source": [
    "prediction = get_prediction(validate_x)[0]\n",
    "\n",
    "print(prediction)"
   ]
  }
 ],
 "metadata": {
  "kernelspec": {
   "display_name": "Python 3",
   "language": "python",
   "name": "python3"
  },
  "language_info": {
   "codemirror_mode": {
    "name": "ipython",
    "version": 3
   },
   "file_extension": ".py",
   "mimetype": "text/x-python",
   "name": "python",
   "nbconvert_exporter": "python",
   "pygments_lexer": "ipython3",
   "version": "3.6.9"
  }
 },
 "nbformat": 4,
 "nbformat_minor": 4
}
