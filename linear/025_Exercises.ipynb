{
 "cells": [
  {
   "cell_type": "markdown",
   "metadata": {},
   "source": [
    "# Exercises\n",
    "\n",
    "There are three exercises in this notebook:\n",
    "\n",
    "1. Use the cross-validation method to test the linear regression with different $\\alpha$ values, at least three.\n",
    "2. Implement a SGD method that will train the Lasso regression for 10 epochs.\n",
    "3. Extend the Fisher's classifier to work with two features. Use the class as the $y$."
   ]
  },
  {
   "cell_type": "code",
   "outputs": [],
   "source": [
    "import numpy as np\n",
    "import pandas as pd\n",
    "from sklearn.linear_model import Ridge\n",
    "from sklearn.datasets import load_iris"
   ],
   "metadata": {
    "collapsed": false,
    "ExecuteTime": {
     "end_time": "2024-04-03T21:38:23.623386Z",
     "start_time": "2024-04-03T21:38:22.070928Z"
    }
   },
   "execution_count": 1
  },
  {
   "cell_type": "markdown",
   "metadata": {},
   "source": [
    "## 1. Cross-validation linear regression\n",
    "\n",
    "You need to change the variable ``alpha`` to be a list of alphas. Next do a loop and finally compare the results."
   ]
  },
  {
   "cell_type": "code",
   "execution_count": 2,
   "metadata": {
    "ExecuteTime": {
     "end_time": "2024-04-03T21:38:23.653836Z",
     "start_time": "2024-04-03T21:38:23.625675Z"
    }
   },
   "outputs": [
    {
     "name": "stdout",
     "output_type": "stream",
     "text": [
      "   Alpha  Scratch Intercept  Scratch Coefficient  Sklearn Intercept  \\\n",
      "0   0.05        -130.228040             1.331150        -130.228040   \n",
      "1   0.10        -101.723971             1.169788        -101.723971   \n",
      "2   0.20         -70.751422             0.994451         -70.751422   \n",
      "3   0.40         -43.972861             0.842856         -43.972861   \n",
      "4   0.80         -25.026648             0.735600         -25.026648   \n",
      "\n",
      "   Sklearn Coefficient  \n",
      "0             1.331150  \n",
      "1             1.169788  \n",
      "2             0.994451  \n",
      "3             0.842856  \n",
      "4             0.735600  \n"
     ]
    }
   ],
   "source": [
    "x = np.array([188, 181, 197, 168, 167, 187, 178, 194, 140, 176, 168, 192, 173, 142, 176]).reshape(-1, 1)\n",
    "y = np.array([141, 106, 149, 59, 79, 136, 65, 136, 52, 87, 115, 140, 82, 69, 121]).reshape(-1, 1)\n",
    "\n",
    "x = np.c_[np.ones((15,1)),x]\n",
    "\n",
    "I = np.identity(2)\n",
    "\n",
    "alphas = [0.05, 0.1, 0.2, 0.4, 0.8]\n",
    "results = []\n",
    "\n",
    "for alpha in alphas:\n",
    "    w_scratch = np.linalg.inv(x.T.dot(x) + alpha * I).dot(x.T).dot(y)\n",
    "    w_scratch = w_scratch.ravel()\n",
    "\n",
    "    ridge = Ridge(alpha=alpha, fit_intercept=False)\n",
    "    ridge.fit(x, y)\n",
    "    w_sklearn = ridge.coef_.ravel()\n",
    "\n",
    "    if w_sklearn.shape[0] > 1:\n",
    "        results.append([alpha, w_scratch[0], w_scratch[1], w_sklearn[0], w_sklearn[1]])\n",
    "    else:\n",
    "        results.append([alpha, w_scratch[0], w_scratch[1], w_sklearn[0], np.nan])\n",
    "\n",
    "df = pd.DataFrame(results, columns=['Alpha', 'Scratch Intercept', 'Scratch Coefficient', 'Sklearn Intercept', 'Sklearn Coefficient'])\n",
    "\n",
    "print(df)"
   ]
  },
  {
   "cell_type": "markdown",
   "metadata": {},
   "source": [
    "## 2. Implement based on the Ridge regression example, the Lasso regression.\n",
    "\n",
    "Please implement the SGD method and compare the results with the sklearn Lasso regression results. "
   ]
  },
  {
   "cell_type": "code",
   "execution_count": 3,
   "metadata": {
    "ExecuteTime": {
     "end_time": "2024-04-03T21:38:23.659321Z",
     "start_time": "2024-04-03T21:38:23.655927Z"
    }
   },
   "outputs": [],
   "source": [
    "def sgd():\n",
    "    # your code goes here\n",
    "    pass"
   ]
  },
  {
   "cell_type": "code",
   "execution_count": 4,
   "metadata": {
    "ExecuteTime": {
     "end_time": "2024-04-03T21:38:23.667963Z",
     "start_time": "2024-04-03T21:38:23.660864Z"
    }
   },
   "outputs": [],
   "source": [
    "x = np.array([188, 181, 197, 168, 167, 187, 178, 194, 140, 176, 168, 192, 173, 142, 176]).reshape(-1, 1).reshape(15,1)\n",
    "y = np.array([141, 106, 149, 59, 79, 136, 65, 136, 52, 87, 115, 140, 82, 69, 121]).reshape(-1, 1).reshape(15,1)\n",
    "\n",
    "x = np.asmatrix(np.c_[np.ones((15,1)),x])\n",
    "\n",
    "I = np.identity(2)\n",
    "alpha = 0.1 \n",
    "\n",
    "\n",
    "w = np.linalg.inv(x.T*x + alpha * I)*x.T*y # update this line\n",
    "w=w.ravel()\n"
   ]
  },
  {
   "cell_type": "markdown",
   "metadata": {},
   "source": [
    "## 3. Extend the Fisher's classifier\n",
    "\n",
    "Please extend the targets of the ``iris_data`` variable and use it as the $y$."
   ]
  },
  {
   "cell_type": "code",
   "execution_count": 5,
   "metadata": {
    "ExecuteTime": {
     "end_time": "2024-04-03T21:38:23.687303Z",
     "start_time": "2024-04-03T21:38:23.670687Z"
    }
   },
   "outputs": [
    {
     "name": "stdout",
     "output_type": "stream",
     "text": [
      "                       \n",
      "0    0.924785  1.051418\n",
      "1    0.885212  1.035589\n",
      "2    0.901042  1.019760\n",
      "3    0.893127  1.011845\n",
      "4    0.932700  1.043504\n",
      "..        ...       ...\n",
      "145  0.885212  1.178051\n",
      "146  0.845640  1.146393\n",
      "147  0.885212  1.162222\n",
      "148  0.916871  1.138479\n",
      "149  0.885212  1.114735\n",
      "\n",
      "[150 rows x 2 columns]\n"
     ]
    }
   ],
   "source": [
    "iris_data = load_iris()\n",
    "iris_df = pd.DataFrame(iris_data.data,columns=iris_data.feature_names)\n",
    "iris_df.head()\n",
    "\n",
    "x = iris_df.loc[:, ['sepal width (cm)', 'sepal length (cm)']].values # change here\n",
    "y = iris_data.target.reshape(-1, 1) # change here\n",
    "\n",
    "dataset_size = np.size(x)\n",
    "\n",
    "mean_x, mean_y = np.mean(x), np.mean(y)\n",
    "\n",
    "SS_xy = np.sum(y * x) - dataset_size * mean_y * mean_x\n",
    "SS_xx = np.sum(x * x) - dataset_size * mean_x * mean_x\n",
    "\n",
    "a = SS_xy / SS_xx\n",
    "b = mean_y - a * mean_x\n",
    "\n",
    "\n",
    "y_pred = a * x + b\n",
    "\n",
    "df = pd.DataFrame(y_pred, columns=[\"\",\"\"])\n",
    "print(df)"
   ]
  }
 ],
 "metadata": {
  "kernelspec": {
   "display_name": "Python 3",
   "language": "python",
   "name": "python3"
  },
  "language_info": {
   "codemirror_mode": {
    "name": "ipython",
    "version": 3
   },
   "file_extension": ".py",
   "mimetype": "text/x-python",
   "name": "python",
   "nbconvert_exporter": "python",
   "pygments_lexer": "ipython3",
   "version": "3.6.9"
  }
 },
 "nbformat": 4,
 "nbformat_minor": 4
}
